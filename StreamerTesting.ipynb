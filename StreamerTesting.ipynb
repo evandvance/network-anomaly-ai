{
 "cells": [
  {
   "cell_type": "code",
   "execution_count": 18,
   "metadata": {},
   "outputs": [],
   "source": [
    "from nfstream import NFStreamer\n",
    "import pandas as pd\n",
    "\n",
    "pd.options.display.max_rows = 4000"
   ]
  },
  {
   "cell_type": "code",
   "execution_count": null,
   "metadata": {},
   "outputs": [],
   "source": [
    "offline_streamer = NFStreamer(source=\"data/demo/Tuesday-WorkingHours.pcap\",\n",
    "                              statistical_analysis=True,\n",
    "                            )\n",
    "\n",
    "df = offline_streamer.to_pandas(columns_to_anonymize=())"
   ]
  },
  {
   "cell_type": "code",
   "execution_count": 28,
   "metadata": {},
   "outputs": [
    {
     "data": {
      "text/html": [
       "<div>\n",
       "<style scoped>\n",
       "    .dataframe tbody tr th:only-of-type {\n",
       "        vertical-align: middle;\n",
       "    }\n",
       "\n",
       "    .dataframe tbody tr th {\n",
       "        vertical-align: top;\n",
       "    }\n",
       "\n",
       "    .dataframe thead th {\n",
       "        text-align: right;\n",
       "    }\n",
       "</style>\n",
       "<table border=\"1\" class=\"dataframe\">\n",
       "  <thead>\n",
       "    <tr style=\"text-align: right;\">\n",
       "      <th></th>\n",
       "      <th>id</th>\n",
       "      <th>expiration_id</th>\n",
       "      <th>src_ip</th>\n",
       "      <th>src_mac</th>\n",
       "      <th>src_oui</th>\n",
       "      <th>src_port</th>\n",
       "      <th>dst_ip</th>\n",
       "      <th>dst_mac</th>\n",
       "      <th>dst_oui</th>\n",
       "      <th>dst_port</th>\n",
       "      <th>...</th>\n",
       "      <th>dst2src_fin_packets</th>\n",
       "      <th>application_name</th>\n",
       "      <th>application_category_name</th>\n",
       "      <th>application_is_guessed</th>\n",
       "      <th>application_confidence</th>\n",
       "      <th>requested_server_name</th>\n",
       "      <th>client_fingerprint</th>\n",
       "      <th>server_fingerprint</th>\n",
       "      <th>user_agent</th>\n",
       "      <th>content_type</th>\n",
       "    </tr>\n",
       "  </thead>\n",
       "  <tbody>\n",
       "    <tr>\n",
       "      <th>0</th>\n",
       "      <td>0</td>\n",
       "      <td>0</td>\n",
       "      <td>192.168.10.5</td>\n",
       "      <td>b8:ac:6f:36:0a:8b</td>\n",
       "      <td>b8:ac:6f</td>\n",
       "      <td>49184</td>\n",
       "      <td>192.168.10.3</td>\n",
       "      <td>18:66:da:9b:e3:7d</td>\n",
       "      <td>18:66:da</td>\n",
       "      <td>88</td>\n",
       "      <td>...</td>\n",
       "      <td>0</td>\n",
       "      <td>Kerberos</td>\n",
       "      <td>Network</td>\n",
       "      <td>0</td>\n",
       "      <td>6</td>\n",
       "      <td>NaN</td>\n",
       "      <td>NaN</td>\n",
       "      <td>NaN</td>\n",
       "      <td>NaN</td>\n",
       "      <td>NaN</td>\n",
       "    </tr>\n",
       "    <tr>\n",
       "      <th>1</th>\n",
       "      <td>1</td>\n",
       "      <td>0</td>\n",
       "      <td>fe80::266e:96ff:fe4a:377a</td>\n",
       "      <td>24:6e:96:4a:37:7a</td>\n",
       "      <td>24:6e:96</td>\n",
       "      <td>8612</td>\n",
       "      <td>ff02::1</td>\n",
       "      <td>33:33:00:00:00:01</td>\n",
       "      <td>33:33:00</td>\n",
       "      <td>8610</td>\n",
       "      <td>...</td>\n",
       "      <td>0</td>\n",
       "      <td>BJNP</td>\n",
       "      <td>System</td>\n",
       "      <td>0</td>\n",
       "      <td>6</td>\n",
       "      <td>NaN</td>\n",
       "      <td>NaN</td>\n",
       "      <td>NaN</td>\n",
       "      <td>NaN</td>\n",
       "      <td>NaN</td>\n",
       "    </tr>\n",
       "    <tr>\n",
       "      <th>2</th>\n",
       "      <td>2</td>\n",
       "      <td>0</td>\n",
       "      <td>192.168.10.5</td>\n",
       "      <td>b8:ac:6f:36:0a:8b</td>\n",
       "      <td>b8:ac:6f</td>\n",
       "      <td>49185</td>\n",
       "      <td>192.168.10.3</td>\n",
       "      <td>18:66:da:9b:e3:7d</td>\n",
       "      <td>18:66:da</td>\n",
       "      <td>88</td>\n",
       "      <td>...</td>\n",
       "      <td>0</td>\n",
       "      <td>Kerberos</td>\n",
       "      <td>Network</td>\n",
       "      <td>0</td>\n",
       "      <td>6</td>\n",
       "      <td>NaN</td>\n",
       "      <td>NaN</td>\n",
       "      <td>NaN</td>\n",
       "      <td>NaN</td>\n",
       "      <td>NaN</td>\n",
       "    </tr>\n",
       "    <tr>\n",
       "      <th>3</th>\n",
       "      <td>3</td>\n",
       "      <td>0</td>\n",
       "      <td>192.168.10.5</td>\n",
       "      <td>b8:ac:6f:36:0a:8b</td>\n",
       "      <td>b8:ac:6f</td>\n",
       "      <td>62399</td>\n",
       "      <td>192.168.10.3</td>\n",
       "      <td>18:66:da:9b:e3:7d</td>\n",
       "      <td>18:66:da</td>\n",
       "      <td>53</td>\n",
       "      <td>...</td>\n",
       "      <td>0</td>\n",
       "      <td>DNS.Microsoft</td>\n",
       "      <td>Network</td>\n",
       "      <td>0</td>\n",
       "      <td>6</td>\n",
       "      <td>foodanddrink.tile.appex.bing.com</td>\n",
       "      <td>NaN</td>\n",
       "      <td>NaN</td>\n",
       "      <td>NaN</td>\n",
       "      <td>NaN</td>\n",
       "    </tr>\n",
       "    <tr>\n",
       "      <th>4</th>\n",
       "      <td>4</td>\n",
       "      <td>0</td>\n",
       "      <td>fe80::266e:96ff:fe4a:377a</td>\n",
       "      <td>24:6e:96:4a:37:7a</td>\n",
       "      <td>24:6e:96</td>\n",
       "      <td>5353</td>\n",
       "      <td>ff02::fb</td>\n",
       "      <td>33:33:00:00:00:fb</td>\n",
       "      <td>33:33:00</td>\n",
       "      <td>5353</td>\n",
       "      <td>...</td>\n",
       "      <td>0</td>\n",
       "      <td>MDNS</td>\n",
       "      <td>Network</td>\n",
       "      <td>0</td>\n",
       "      <td>6</td>\n",
       "      <td>_scanner._tcp.local</td>\n",
       "      <td>NaN</td>\n",
       "      <td>NaN</td>\n",
       "      <td>NaN</td>\n",
       "      <td>NaN</td>\n",
       "    </tr>\n",
       "  </tbody>\n",
       "</table>\n",
       "<p>5 rows × 86 columns</p>\n",
       "</div>"
      ],
      "text/plain": [
       "   id  expiration_id                     src_ip            src_mac   src_oui  \\\n",
       "0   0              0               192.168.10.5  b8:ac:6f:36:0a:8b  b8:ac:6f   \n",
       "1   1              0  fe80::266e:96ff:fe4a:377a  24:6e:96:4a:37:7a  24:6e:96   \n",
       "2   2              0               192.168.10.5  b8:ac:6f:36:0a:8b  b8:ac:6f   \n",
       "3   3              0               192.168.10.5  b8:ac:6f:36:0a:8b  b8:ac:6f   \n",
       "4   4              0  fe80::266e:96ff:fe4a:377a  24:6e:96:4a:37:7a  24:6e:96   \n",
       "\n",
       "   src_port        dst_ip            dst_mac   dst_oui  dst_port  ...  \\\n",
       "0     49184  192.168.10.3  18:66:da:9b:e3:7d  18:66:da        88  ...   \n",
       "1      8612       ff02::1  33:33:00:00:00:01  33:33:00      8610  ...   \n",
       "2     49185  192.168.10.3  18:66:da:9b:e3:7d  18:66:da        88  ...   \n",
       "3     62399  192.168.10.3  18:66:da:9b:e3:7d  18:66:da        53  ...   \n",
       "4      5353      ff02::fb  33:33:00:00:00:fb  33:33:00      5353  ...   \n",
       "\n",
       "   dst2src_fin_packets  application_name  application_category_name  \\\n",
       "0                    0          Kerberos                    Network   \n",
       "1                    0              BJNP                     System   \n",
       "2                    0          Kerberos                    Network   \n",
       "3                    0     DNS.Microsoft                    Network   \n",
       "4                    0              MDNS                    Network   \n",
       "\n",
       "   application_is_guessed  application_confidence  \\\n",
       "0                       0                       6   \n",
       "1                       0                       6   \n",
       "2                       0                       6   \n",
       "3                       0                       6   \n",
       "4                       0                       6   \n",
       "\n",
       "              requested_server_name  client_fingerprint  server_fingerprint  \\\n",
       "0                               NaN                 NaN                 NaN   \n",
       "1                               NaN                 NaN                 NaN   \n",
       "2                               NaN                 NaN                 NaN   \n",
       "3  foodanddrink.tile.appex.bing.com                 NaN                 NaN   \n",
       "4               _scanner._tcp.local                 NaN                 NaN   \n",
       "\n",
       "   user_agent  content_type  \n",
       "0         NaN           NaN  \n",
       "1         NaN           NaN  \n",
       "2         NaN           NaN  \n",
       "3         NaN           NaN  \n",
       "4         NaN           NaN  \n",
       "\n",
       "[5 rows x 86 columns]"
      ]
     },
     "execution_count": 28,
     "metadata": {},
     "output_type": "execute_result"
    }
   ],
   "source": [
    "df.head()"
   ]
  },
  {
   "cell_type": "code",
   "execution_count": 29,
   "metadata": {},
   "outputs": [
    {
     "data": {
      "text/plain": [
       "array([False])"
      ]
     },
     "execution_count": 29,
     "metadata": {},
     "output_type": "execute_result"
    }
   ],
   "source": [
    "#The providers of this data set has identified these IP addresses as attackers\n",
    "is_kali_attacker = (df[\"src_ip\"] == \"205.174.165.73\") | (df[\"dst_ip\"] == \"205.174.165.73\") \n",
    "is_win_attacker = (df[\"src_ip\"] == \"205.174.165.69\") | (df[\"dst_ip\"] == \"205.174.165.69\")\\\n",
    "                | (df[\"src_ip\"] == \"205.174.165.70\") | (df[\"dst_ip\"] == \"205.174.165.70\")\\\n",
    "                | (df[\"src_ip\"] == \"205.174.165.71\") | (df[\"dst_ip\"] == \"205.174.165.71\")\n",
    "\n",
    "is_attacker = is_kali_attacker | is_win_attacker\n",
    "\n",
    "is_attacker.unique()"
   ]
  },
  {
   "cell_type": "code",
   "execution_count": 22,
   "metadata": {},
   "outputs": [
    {
     "data": {
      "text/plain": [
       "array([False])"
      ]
     },
     "execution_count": 22,
     "metadata": {},
     "output_type": "execute_result"
    }
   ],
   "source": [
    "is_kali_attacker.unique()"
   ]
  },
  {
   "cell_type": "code",
   "execution_count": 23,
   "metadata": {},
   "outputs": [
    {
     "data": {
      "text/plain": [
       "array([False])"
      ]
     },
     "execution_count": 23,
     "metadata": {},
     "output_type": "execute_result"
    }
   ],
   "source": [
    "is_win_attacker.unique()"
   ]
  },
  {
   "cell_type": "code",
   "execution_count": 24,
   "metadata": {},
   "outputs": [],
   "source": [
    "# for i, col in enumerate(df.columns):\n",
    "#     print(col, end=\" \")\n",
    "#     if (i + 1) % 10 == 0:\n",
    "#         print()"
   ]
  },
  {
   "cell_type": "code",
   "execution_count": 25,
   "metadata": {},
   "outputs": [],
   "source": [
    "# df.dtypes"
   ]
  }
 ],
 "metadata": {
  "kernelspec": {
   "display_name": "ids-ai",
   "language": "python",
   "name": "python3"
  },
  "language_info": {
   "codemirror_mode": {
    "name": "ipython",
    "version": 3
   },
   "file_extension": ".py",
   "mimetype": "text/x-python",
   "name": "python",
   "nbconvert_exporter": "python",
   "pygments_lexer": "ipython3",
   "version": "3.10.15"
  }
 },
 "nbformat": 4,
 "nbformat_minor": 2
}
