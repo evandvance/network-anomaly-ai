{
 "cells": [
  {
   "cell_type": "code",
   "execution_count": 37,
   "metadata": {},
   "outputs": [
    {
     "name": "stdout",
     "output_type": "stream",
     "text": [
      "Setup Complete\n"
     ]
    }
   ],
   "source": [
    "import pandas as pd\n",
    "import numpy as np\n",
    "from sklearn.ensemble import IsolationForest\n",
    "from sklearn.svm import OneClassSVM\n",
    "from sklearn.model_selection import train_test_split\n",
    "from sklearn.preprocessing import LabelEncoder\n",
    "from sklearn.metrics import auc, precision_recall_curve, accuracy_score, precision_score, recall_score, roc_auc_score\n",
    "import os\n",
    "import glob\n",
    "from src.helpers import trainer_factory\n",
    "\n",
    "folder_path = os.getcwd() + \"/data/csvs\"\n",
    "csv_files = glob.glob(os.path.join(folder_path, '*.csv'))\n",
    "\n",
    "\n",
    "def eval_model(model, X_test, y_test):\n",
    "    score = {}\n",
    "    predictions = model.predict(X_test)\n",
    "\n",
    "    predictions[predictions == -1] = 0\n",
    "\n",
    "    print(pd.DataFrame(predictions).value_counts())\n",
    "\n",
    "    precision, recall, _ = precision_recall_curve(y_test, predictions)\n",
    "    score[\"auprc\"] = auc(recall, precision)\n",
    "    score[\"auc_roc\"] = roc_auc_score(y_test, predictions)\n",
    "    score[\"precision\"] = precision_score(y_test, predictions)\n",
    "    score[\"recall\"] = recall_score(y_test, predictions)\n",
    "    score[\"accuracy\"] = accuracy_score(y_test, predictions)\n",
    "\n",
    "    return score\n",
    "\n",
    "print(\"Setup Complete\")"
   ]
  },
  {
   "cell_type": "code",
   "execution_count": 38,
   "metadata": {},
   "outputs": [],
   "source": [
    "dfs = []\n",
    "\n",
    "for file in csv_files:\n",
    "    filename = file.split(\"/\")[-1]\n",
    "    df = pd.read_csv(file)\n",
    "    df[\"Source File\"] = filename\n",
    "    dfs.append(df)\n",
    "\n",
    "captures = pd.concat(dfs)"
   ]
  },
  {
   "cell_type": "code",
   "execution_count": 39,
   "metadata": {},
   "outputs": [
    {
     "data": {
      "text/plain": [
       "Index([' Destination Port', ' Flow Duration', ' Total Fwd Packets',\n",
       "       ' Total Backward Packets', 'Total Length of Fwd Packets',\n",
       "       ' Total Length of Bwd Packets', ' Fwd Packet Length Max',\n",
       "       ' Fwd Packet Length Min', ' Fwd Packet Length Mean',\n",
       "       ' Fwd Packet Length Std', 'Bwd Packet Length Max',\n",
       "       ' Bwd Packet Length Min', ' Bwd Packet Length Mean',\n",
       "       ' Bwd Packet Length Std', 'Flow Bytes/s', ' Flow Packets/s',\n",
       "       ' Flow IAT Mean', ' Flow IAT Std', ' Flow IAT Max', ' Flow IAT Min',\n",
       "       'Fwd IAT Total', ' Fwd IAT Mean', ' Fwd IAT Std', ' Fwd IAT Max',\n",
       "       ' Fwd IAT Min', 'Bwd IAT Total', ' Bwd IAT Mean', ' Bwd IAT Std',\n",
       "       ' Bwd IAT Max', ' Bwd IAT Min', 'Fwd PSH Flags', ' Bwd PSH Flags',\n",
       "       ' Fwd URG Flags', ' Bwd URG Flags', ' Fwd Header Length',\n",
       "       ' Bwd Header Length', 'Fwd Packets/s', ' Bwd Packets/s',\n",
       "       ' Min Packet Length', ' Max Packet Length', ' Packet Length Mean',\n",
       "       ' Packet Length Std', ' Packet Length Variance', 'FIN Flag Count',\n",
       "       ' SYN Flag Count', ' RST Flag Count', ' PSH Flag Count',\n",
       "       ' ACK Flag Count', ' URG Flag Count', ' CWE Flag Count',\n",
       "       ' ECE Flag Count', ' Down/Up Ratio', ' Average Packet Size',\n",
       "       ' Avg Fwd Segment Size', ' Avg Bwd Segment Size',\n",
       "       ' Fwd Header Length.1', 'Fwd Avg Bytes/Bulk', ' Fwd Avg Packets/Bulk',\n",
       "       ' Fwd Avg Bulk Rate', ' Bwd Avg Bytes/Bulk', ' Bwd Avg Packets/Bulk',\n",
       "       'Bwd Avg Bulk Rate', 'Subflow Fwd Packets', ' Subflow Fwd Bytes',\n",
       "       ' Subflow Bwd Packets', ' Subflow Bwd Bytes', 'Init_Win_bytes_forward',\n",
       "       ' Init_Win_bytes_backward', ' act_data_pkt_fwd',\n",
       "       ' min_seg_size_forward', 'Active Mean', ' Active Std', ' Active Max',\n",
       "       ' Active Min', 'Idle Mean', ' Idle Std', ' Idle Max', ' Idle Min',\n",
       "       ' Label', 'Source File'],\n",
       "      dtype='object')"
      ]
     },
     "execution_count": 39,
     "metadata": {},
     "output_type": "execute_result"
    }
   ],
   "source": [
    "captures.columns"
   ]
  },
  {
   "cell_type": "code",
   "execution_count": 40,
   "metadata": {},
   "outputs": [],
   "source": [
    "captures.rename(columns={name:name.strip() for name in captures.columns}, inplace=True)"
   ]
  },
  {
   "cell_type": "code",
   "execution_count": 41,
   "metadata": {},
   "outputs": [
    {
     "data": {
      "text/plain": [
       "(2830743, 80)"
      ]
     },
     "execution_count": 41,
     "metadata": {},
     "output_type": "execute_result"
    }
   ],
   "source": [
    "captures.shape"
   ]
  },
  {
   "cell_type": "code",
   "execution_count": 42,
   "metadata": {},
   "outputs": [
    {
     "data": {
      "text/plain": [
       "array(['BENIGN', 'Web Attack � Brute Force', 'Web Attack � XSS',\n",
       "       'Web Attack � Sql Injection', 'DDoS', 'DoS slowloris',\n",
       "       'DoS Slowhttptest', 'DoS Hulk', 'DoS GoldenEye', 'Heartbleed',\n",
       "       'FTP-Patator', 'SSH-Patator', 'Bot', 'Infiltration', 'PortScan'],\n",
       "      dtype=object)"
      ]
     },
     "execution_count": 42,
     "metadata": {},
     "output_type": "execute_result"
    }
   ],
   "source": [
    "\n",
    "captures[\"Label\"].unique()\n"
   ]
  },
  {
   "cell_type": "code",
   "execution_count": 43,
   "metadata": {},
   "outputs": [],
   "source": [
    "captures[\"Label\"] = captures[\"Label\"] == 'BENIGN'"
   ]
  },
  {
   "cell_type": "code",
   "execution_count": 44,
   "metadata": {},
   "outputs": [],
   "source": [
    "captures.dropna(inplace=True)"
   ]
  },
  {
   "cell_type": "code",
   "execution_count": 45,
   "metadata": {},
   "outputs": [],
   "source": [
    "le = LabelEncoder()\n",
    "\n",
    "captures[\"Label\"] = le.fit_transform(captures[\"Label\"])"
   ]
  },
  {
   "cell_type": "markdown",
   "metadata": {},
   "source": [
    "This Next Block is important to note. The Isolation forest cannot deal with numbers that cannot be stored in float32s in its current state. Those must be delt with."
   ]
  },
  {
   "cell_type": "code",
   "execution_count": 46,
   "metadata": {},
   "outputs": [],
   "source": [
    "captures = captures[captures[\"Flow Bytes/s\"] != np.inf]"
   ]
  },
  {
   "cell_type": "code",
   "execution_count": 47,
   "metadata": {},
   "outputs": [
    {
     "data": {
      "text/plain": [
       "(2827876, 80)"
      ]
     },
     "execution_count": 47,
     "metadata": {},
     "output_type": "execute_result"
    }
   ],
   "source": [
    "captures.shape"
   ]
  },
  {
   "cell_type": "code",
   "execution_count": 48,
   "metadata": {},
   "outputs": [
    {
     "data": {
      "text/plain": [
       "array(['Thursday-WorkingHours-Morning-WebAttacks.pcap_ISCX.csv',\n",
       "       'Friday-WorkingHours-Afternoon-DDos.pcap_ISCX.csv',\n",
       "       'Wednesday-workingHours.pcap_ISCX.csv',\n",
       "       'Monday-WorkingHours.pcap_ISCX.csv',\n",
       "       'Tuesday-WorkingHours.pcap_ISCX.csv',\n",
       "       'Friday-WorkingHours-Morning.pcap_ISCX.csv',\n",
       "       'Thursday-WorkingHours-Afternoon-Infilteration.pcap_ISCX.csv',\n",
       "       'Friday-WorkingHours-Afternoon-PortScan.pcap_ISCX.csv'],\n",
       "      dtype=object)"
      ]
     },
     "execution_count": 48,
     "metadata": {},
     "output_type": "execute_result"
    }
   ],
   "source": [
    "captures[\"Source File\"].unique()"
   ]
  },
  {
   "cell_type": "code",
   "execution_count": 49,
   "metadata": {},
   "outputs": [],
   "source": [
    "features = captures.columns.drop([\"Label\", \"Source File\"])\n",
    "\n",
    "X_norm = captures[captures[\"Source File\"] == \"Monday-WorkingHours.pcap_ISCX.csv\"][features]\n",
    "y_norm = captures[captures[\"Source File\"] == \"Monday-WorkingHours.pcap_ISCX.csv\"][\"Label\"]\n"
   ]
  },
  {
   "cell_type": "code",
   "execution_count": 50,
   "metadata": {},
   "outputs": [],
   "source": [
    "isoforest_trainer = trainer_factory(IsolationForest, X_norm, y_norm)"
   ]
  },
  {
   "cell_type": "code",
   "execution_count": 51,
   "metadata": {},
   "outputs": [],
   "source": [
    "X_attack = captures[captures[\"Source File\"] != \"Monday-WorkingHours.pcap_ISCX.csv\"][features]\n",
    "y_attack = captures[captures[\"Source File\"] != \"Monday-WorkingHours.pcap_ISCX.csv\"][\"Label\"]"
   ]
  },
  {
   "cell_type": "code",
   "execution_count": 52,
   "metadata": {},
   "outputs": [
    {
     "name": "stdout",
     "output_type": "stream",
     "text": [
      "0\n",
      "1    1973900\n",
      "0     324495\n",
      "Name: count, dtype: int64\n"
     ]
    },
    {
     "data": {
      "text/plain": [
       "{'auprc': 0.8954349827165388,\n",
       " 'auc_roc': 0.6233985633983208,\n",
       " 'precision': 0.8105861492476822,\n",
       " 'recall': 0.9185785827507594,\n",
       " 'accuracy': 0.7756229890858621}"
      ]
     },
     "execution_count": 52,
     "metadata": {},
     "output_type": "execute_result"
    }
   ],
   "source": [
    "isoforest = isoforest_trainer(random_state=0)\n",
    "\n",
    "eval_model(isoforest, X_attack, y_attack)"
   ]
  },
  {
   "cell_type": "markdown",
   "metadata": {},
   "source": [
    "The OCSVM took about an hour to trian and did not perform half as well as the isolation forest.\n",
    "{'auc': 0.996731548529342,\n",
    " 'precision': 0.9997661037563736,\n",
    " 'recall': 0.5087117966295345,\n",
    " 'accuracy': 0.5148973166032238}"
   ]
  },
  {
   "cell_type": "code",
   "execution_count": 53,
   "metadata": {},
   "outputs": [],
   "source": [
    "# ocsvm_trainer = trainer_factory(OneClassSVM, X_train, y_train)"
   ]
  },
  {
   "cell_type": "code",
   "execution_count": 54,
   "metadata": {},
   "outputs": [],
   "source": [
    "# ocsvm, _ = ocsvm_trainer()\n",
    "\n",
    "# eval_model(ocsvm, X_test, y_test)"
   ]
  }
 ],
 "metadata": {
  "kernelspec": {
   "display_name": "ids-ai",
   "language": "python",
   "name": "python3"
  },
  "language_info": {
   "codemirror_mode": {
    "name": "ipython",
    "version": 3
   },
   "file_extension": ".py",
   "mimetype": "text/x-python",
   "name": "python",
   "nbconvert_exporter": "python",
   "pygments_lexer": "ipython3",
   "version": "3.10.15"
  },
  "orig_nbformat": 4
 },
 "nbformat": 4,
 "nbformat_minor": 2
}
