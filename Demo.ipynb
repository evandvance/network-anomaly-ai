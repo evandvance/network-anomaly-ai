{
 "cells": [
  {
   "cell_type": "code",
   "execution_count": null,
   "metadata": {},
   "outputs": [],
   "source": [
    "import pandas as pd\n",
    "import os\n",
    "\n",
    "report_path = os.getcwd() + \"/reports/Monday-WorkingHours.pcap.report.csv\""
   ]
  },
  {
   "cell_type": "code",
   "execution_count": null,
   "metadata": {},
   "outputs": [],
   "source": [
    "df = pd.read_csv(report_path, index_col=\"id\")"
   ]
  },
  {
   "cell_type": "code",
   "execution_count": null,
   "metadata": {},
   "outputs": [],
   "source": [
    "df[\"Predictions\"].value_counts()"
   ]
  },
  {
   "cell_type": "code",
   "execution_count": null,
   "metadata": {},
   "outputs": [],
   "source": [
    "df[\"Labels\"] = 0"
   ]
  },
  {
   "cell_type": "code",
   "execution_count": null,
   "metadata": {},
   "outputs": [],
   "source": [
    "from sklearn.metrics import auc, precision_recall_curve, accuracy_score, precision_score, recall_score\n",
    "\n",
    "def score_predictions(y_truth, y_predictions):\n",
    "    score = {}\n",
    "\n",
    "    precision, recall, _ = precision_recall_curve(y_truth, y_predictions)\n",
    "    score[\"prauc\"] = auc(recall, precision)\n",
    "    score[\"precision\"] = precision_score(y_truth, y_predictions)\n",
    "    score[\"recall\"] = recall_score(y_truth, y_predictions)\n",
    "    score[\"accuracy\"] = accuracy_score(y_truth, y_predictions)\n",
    "\n",
    "    return score"
   ]
  },
  {
   "cell_type": "code",
   "execution_count": null,
   "metadata": {},
   "outputs": [],
   "source": [
    "from sklearn.preprocessing import LabelEncoder\n",
    "\n",
    "le = LabelEncoder()"
   ]
  },
  {
   "cell_type": "code",
   "execution_count": null,
   "metadata": {},
   "outputs": [],
   "source": [
    "df[\"Predictions\"] = le.fit_transform(df[\"Predictions\"])"
   ]
  },
  {
   "cell_type": "code",
   "execution_count": null,
   "metadata": {},
   "outputs": [],
   "source": [
    "score_predictions(df[\"Predictions\"], df[\"Labels\"])"
   ]
  },
  {
   "cell_type": "markdown",
   "metadata": {},
   "source": [
    "I spent quite a few hours trying to put together a way to label the netflow generated from the packet capture file, but I was unable to. I think I am missing a key peice in labeling it. I dont have access to the router logs, just captures from an interface that appears to be between the router/firewall and the rest of the network."
   ]
  }
 ],
 "metadata": {
  "kernelspec": {
   "display_name": "ids-ai",
   "language": "python",
   "name": "python3"
  },
  "language_info": {
   "codemirror_mode": {
    "name": "ipython",
    "version": 3
   },
   "file_extension": ".py",
   "mimetype": "text/x-python",
   "name": "python",
   "nbconvert_exporter": "python",
   "pygments_lexer": "ipython3",
   "version": "3.10.15"
  }
 },
 "nbformat": 4,
 "nbformat_minor": 2
}
