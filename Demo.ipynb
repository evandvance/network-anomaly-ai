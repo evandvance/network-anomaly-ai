{
 "cells": [
  {
   "cell_type": "code",
   "execution_count": null,
   "metadata": {},
   "outputs": [],
   "source": [
    "import pandas as pd"
   ]
  },
  {
   "cell_type": "code",
   "execution_count": null,
   "metadata": {},
   "outputs": [],
   "source": [
    "df = pd.read_csv(\"/home/evanvance/Code/School/network-anomaly-ai/reports/Monday-WorkingHours.pcap_report.csv\")"
   ]
  },
  {
   "cell_type": "code",
   "execution_count": 30,
   "metadata": {},
   "outputs": [],
   "source": [
    "benign_count =  df[\"Predictions\"].value_counts().loc[\"BENIGN\"]\n",
    "malicious_count = df[\"Predictions\"].value_counts().loc[\"MALICIOUS\"]"
   ]
  },
  {
   "cell_type": "code",
   "execution_count": 31,
   "metadata": {},
   "outputs": [
    {
     "name": "stdout",
     "output_type": "stream",
     "text": [
      "\n",
      "Benign: 328265\n",
      "Malicious: 27467\n",
      "\n",
      "Since we analyzed a capture that we know had no malicious interactions,\n",
      "the models accuracy was 0.9228\n",
      "\n",
      "\n"
     ]
    }
   ],
   "source": [
    "print(f'''\n",
    "Benign: {benign_count}\n",
    "Malicious: {malicious_count}\n",
    "\n",
    "Since we analyzed a capture that we know had no malicious interactions,\n",
    "the models accuracy was {round(benign_count / df[\"Predictions\"].count(), 4)}\n",
    "\n",
    "''')"
   ]
  },
  {
   "cell_type": "code",
   "execution_count": null,
   "metadata": {},
   "outputs": [],
   "source": [
    "from sklearn.metrics import auc, precision_recall_curve, accuracy_score, precision_score, recall_score, roc_auc_score\n",
    "\n",
    "def score_predictions(y_truth, y_predictions):\n",
    "    score = {}\n",
    "\n",
    "    precision, recall, _ = precision_recall_curve(y_truth, y_predictions)\n",
    "    score[\"auprc\"] = auc(recall, precision)\n",
    "    # score[\"auc_roc\"] = roc_auc_score(y_truth, y_predictions)\n",
    "    score[\"precision\"] = precision_score(y_truth, y_predictions)\n",
    "    score[\"recall\"] = recall_score(y_truth, y_predictions)\n",
    "    score[\"accuracy\"] = accuracy_score(y_truth, y_predictions)\n",
    "\n",
    "    return score"
   ]
  },
  {
   "cell_type": "code",
   "execution_count": 33,
   "metadata": {},
   "outputs": [],
   "source": [
    "from sklearn.preprocessing import LabelEncoder\n",
    "\n",
    "le = LabelEncoder()"
   ]
  },
  {
   "cell_type": "code",
   "execution_count": 34,
   "metadata": {},
   "outputs": [],
   "source": [
    "df[\"Labels\"] = 0\n",
    "\n",
    "df[\"Predictions\"] = le.fit_transform(df[\"Predictions\"])"
   ]
  },
  {
   "cell_type": "code",
   "execution_count": null,
   "metadata": {},
   "outputs": [
    {
     "name": "stderr",
     "output_type": "stream",
     "text": [
      "/home/evanvance/miniconda3/envs/ids-ai/lib/python3.10/site-packages/sklearn/metrics/_ranking.py:1030: UserWarning: No positive class found in y_true, recall is set to one for all thresholds.\n",
      "  warnings.warn(\n",
      "/home/evanvance/miniconda3/envs/ids-ai/lib/python3.10/site-packages/sklearn/metrics/_classification.py:1531: UndefinedMetricWarning: Recall is ill-defined and being set to 0.0 due to no true samples. Use `zero_division` parameter to control this behavior.\n",
      "  _warn_prf(average, modifier, f\"{metric.capitalize()} is\", len(result))\n"
     ]
    },
    {
     "data": {
      "text/plain": [
       "{'auprc': 0.5, 'precision': 0.0, 'recall': 0.0, 'accuracy': 0.9227873792630407}"
      ]
     },
     "execution_count": 35,
     "metadata": {},
     "output_type": "execute_result"
    }
   ],
   "source": [
    "score_predictions(df[\"Predictions\"], df[\"Labels\"])"
   ]
  }
 ],
 "metadata": {
  "kernelspec": {
   "display_name": "ids-ai",
   "language": "python",
   "name": "python3"
  },
  "language_info": {
   "codemirror_mode": {
    "name": "ipython",
    "version": 3
   },
   "file_extension": ".py",
   "mimetype": "text/x-python",
   "name": "python",
   "nbconvert_exporter": "python",
   "pygments_lexer": "ipython3",
   "version": "3.10.15"
  }
 },
 "nbformat": 4,
 "nbformat_minor": 2
}
